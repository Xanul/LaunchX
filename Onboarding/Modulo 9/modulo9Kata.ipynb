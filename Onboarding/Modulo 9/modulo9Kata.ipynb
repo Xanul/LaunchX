{
 "cells": [
  {
   "cell_type": "markdown",
   "metadata": {},
   "source": [
    "# Modulo 9 - Kata\n",
    "## Funciones en Python\n",
    "\n",
    "Los argumentos requeridos en las funciones se utilizan cuando las funciones necesitan que esos argumentos funcionen correctamente. En este ejercicio, construirás un informe de combustible que requiere información de varias ubicaciones de combustible en todo el cohete.\n",
    "\n",
    "Comienza por crear una función que necesite tres lecturas de combustible y devuelva un informe:"
   ]
  },
  {
   "cell_type": "code",
   "execution_count": 3,
   "metadata": {},
   "outputs": [],
   "source": [
    "def fuel_inf(tank1, tank2, tank3):\n",
    "    fuel_avg = (tank1 + tank2 + tank3) / 3\n",
    "    return f\"\"\"Fuel information:\n",
    "    Tank1 = {tank1}\n",
    "    Tank2 = {tank2}\n",
    "    Tank3 = {tank3}\n",
    "    Fuel average = {round(fuel_avg,2)}\"\"\""
   ]
  },
  {
   "cell_type": "markdown",
   "metadata": {},
   "source": [
    "Ahora que hemos definido la función de informes, vamos a comprobarlo. Para esta misión, los tanques no están llenos:"
   ]
  },
  {
   "cell_type": "code",
   "execution_count": 5,
   "metadata": {},
   "outputs": [
    {
     "name": "stdout",
     "output_type": "stream",
     "text": [
      "Fuel information:\n",
      "    Tank1 = 20\n",
      "    Tank2 = 20\n",
      "    Tank3 = 10\n",
      "    Fuel average = 16.67\n"
     ]
    }
   ],
   "source": [
    "print(fuel_inf(20,20,10))"
   ]
  },
  {
   "cell_type": "markdown",
   "metadata": {},
   "source": [
    "En lugar de simplemente crear el informe, la función también está calculando el promedio. Mejora la legibilidad extrayendo el cálculo promedio de la función en una nueva función para que el promedio se pueda hacer de forma independiente:"
   ]
  },
  {
   "cell_type": "code",
   "execution_count": 10,
   "metadata": {},
   "outputs": [
    {
     "data": {
      "text/plain": [
       "15.0"
      ]
     },
     "execution_count": 10,
     "metadata": {},
     "output_type": "execute_result"
    }
   ],
   "source": [
    "def average(args):\n",
    "    total = sum(args)\n",
    "    avg = len(args)\n",
    "    return total / avg\n",
    "\n",
    "average([10,2,33])"
   ]
  },
  {
   "cell_type": "markdown",
   "metadata": {},
   "source": [
    "Ahora actualiza la función de informes para llamando a la nueva función del promedio:"
   ]
  },
  {
   "cell_type": "code",
   "execution_count": 12,
   "metadata": {},
   "outputs": [
    {
     "name": "stdout",
     "output_type": "stream",
     "text": [
      "Fuel information:\n",
      "    Tank1 = 10\n",
      "    Tank2 = 2\n",
      "    Tank3 = 3\n",
      "    Fuel average = 5.0\n"
     ]
    }
   ],
   "source": [
    "def fuel_inf2(tank1, tank2, tank3):\n",
    "    return f\"\"\"Fuel information:\n",
    "    Tank1 = {tank1}\n",
    "    Tank2 = {tank2}\n",
    "    Tank3 = {tank3}\n",
    "    Fuel average = {average([tank1,tank2,tank3])}\"\"\"\n",
    "\n",
    "print(fuel_inf2(10,2,3))"
   ]
  },
  {
   "cell_type": "markdown",
   "metadata": {},
   "source": [
    "En este ejercicio, construirás un informe de cohete que requiere varias piezas de información, como el tiempo hasta el destino, el combustible a la izquierda y el nombre del destino. Comienza por crear una función que creará un informe preciso de la misión:"
   ]
  },
  {
   "cell_type": "code",
   "execution_count": 13,
   "metadata": {},
   "outputs": [
    {
     "name": "stdout",
     "output_type": "stream",
     "text": [
      "\n",
      "    Destination: Moon\n",
      "    Total flight: 30 min\n",
      "    Fuel: 6 L\n"
     ]
    }
   ],
   "source": [
    "def mision(land_time, flight_time, destination, main_tank, second_tank):\n",
    "    return f\"\"\"\n",
    "    Destination: {destination}\n",
    "    Total flight: {land_time + flight_time} min\n",
    "    Fuel: {main_tank + second_tank} L\"\"\"\n",
    "\n",
    "print(mision(10,20,\"Moon\", 2,4))\n"
   ]
  },
  {
   "cell_type": "markdown",
   "metadata": {},
   "source": [
    "La función es problemática porque no se puede adaptar para minutos adicionales o tanques adicionales de combustible. Hazlo más flexible permitiendo cualquier número de pasos basados en el tiempo y cualquier número de tanques. En lugar de usar *args y **kwargs, aprovecha el hecho de que puedes usar cualquier nombre que desees. Asegurate que la función sea más legible mediante el uso de nombres de variables que están asociados con las entradas, como *minutes y **fuel_reservoirs:"
   ]
  },
  {
   "cell_type": "code",
   "execution_count": 16,
   "metadata": {},
   "outputs": [
    {
     "name": "stdout",
     "output_type": "stream",
     "text": [
      "\n",
      "    Destination: Earth\n",
      "    Travel time: 10 min\n",
      "    Fuel: 390\n"
     ]
    }
   ],
   "source": [
    "def mision2(destination, *min, **fuel_info):\n",
    "    return f\"\"\"\n",
    "    Destination: {destination}\n",
    "    Travel time: {sum(min)} min\n",
    "    Fuel: {sum(fuel_info.values())}\"\"\"\n",
    "\n",
    "print(mision2(\"Earth\",2,3,5, main_tank=200, second_tank=190))"
   ]
  },
  {
   "cell_type": "markdown",
   "metadata": {},
   "source": [
    "Debido a que el combustible que queda en los tanques es específico de cada tanque, actualiza la función para usar el nombre de cada tanque en el informe"
   ]
  },
  {
   "cell_type": "code",
   "execution_count": 30,
   "metadata": {},
   "outputs": [
    {
     "name": "stdout",
     "output_type": "stream",
     "text": [
      "\n",
      "    Destination: Earth\n",
      "    Travel time: 76 min\n",
      "    ***** Fuel Info *****\n",
      "    Total fuel: 320\n",
      " main tank -- 200 gallons left\n",
      " second tank -- 120 gallons left\n"
     ]
    }
   ],
   "source": [
    "def mision3(destination, *min, **fuel_info):\n",
    "    report = f\"\"\"\n",
    "    Destination: {destination}\n",
    "    Travel time: {sum(min)} min\n",
    "    ***** Fuel Info *****\n",
    "    Total fuel: {sum(fuel_info.values())}\"\"\"\n",
    "\n",
    "    for arg1, arg2 in fuel_info.items():\n",
    "        report += f\"\\n {arg1} tank -- {arg2} gallons left\"\n",
    "    return report   \n",
    "\n",
    "print(mision3(\"Earth\", 50, 4, 22, main=200, second=120)) "
   ]
  }
 ],
 "metadata": {
  "interpreter": {
   "hash": "e6c7e1412055052c91c270ed5ae4860cf1ada6d4e73087bb303a1d6d3fa4fabb"
  },
  "kernelspec": {
   "display_name": "Python 3.10.2 64-bit (windows store)",
   "language": "python",
   "name": "python3"
  },
  "language_info": {
   "codemirror_mode": {
    "name": "ipython",
    "version": 3
   },
   "file_extension": ".py",
   "mimetype": "text/x-python",
   "name": "python",
   "nbconvert_exporter": "python",
   "pygments_lexer": "ipython3",
   "version": "3.10.2"
  },
  "orig_nbformat": 4
 },
 "nbformat": 4,
 "nbformat_minor": 2
}
