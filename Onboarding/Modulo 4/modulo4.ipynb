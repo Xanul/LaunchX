{
 "cells": [
  {
   "cell_type": "code",
   "execution_count": null,
   "metadata": {},
   "outputs": [],
   "source": [
    "fact = \"The moon has no atmosphere.\"\n",
    "fact + \"No sound can be heard on the moon\"\n",
    "two_facts  = fact + \" No sound can be heard on the moon\"\n",
    "two_facts"
   ]
  },
  {
   "cell_type": "code",
   "execution_count": null,
   "metadata": {},
   "outputs": [],
   "source": [
    "moon_radius = \"The moon has a radius of 1080 miles\"\n",
    "moon_radius"
   ]
  },
  {
   "cell_type": "code",
   "execution_count": null,
   "metadata": {},
   "outputs": [],
   "source": [
    "'The \"near side\" is the part of the Moon that faces the Earth'"
   ]
  },
  {
   "cell_type": "code",
   "execution_count": null,
   "metadata": {},
   "outputs": [],
   "source": [
    "\"We only see about 60% of the Moon's surface\""
   ]
  },
  {
   "cell_type": "code",
   "execution_count": 2,
   "metadata": {},
   "outputs": [
    {
     "data": {
      "text/plain": [
       "\"We only see about 60% of the Moon's surface\""
      ]
     },
     "execution_count": 2,
     "metadata": {},
     "output_type": "execute_result"
    }
   ],
   "source": [
    "\"We only see about 60% of the Moon's surface\""
   ]
  },
  {
   "cell_type": "code",
   "execution_count": null,
   "metadata": {},
   "outputs": [],
   "source": [
    "\"\"\"We only see about 60% of the Moon's surface, this is known as the \"near side\".\"\"\""
   ]
  },
  {
   "cell_type": "code",
   "execution_count": null,
   "metadata": {},
   "outputs": [],
   "source": [
    "multiline = \"Facts about the Moon:\\n There is no atmosphere.\\n There is no sound.\"\n",
    "print(multiline)"
   ]
  },
  {
   "cell_type": "code",
   "execution_count": null,
   "metadata": {},
   "outputs": [],
   "source": [
    "multiline = \"\"\"Facts about the Moon:\n",
    "    There is no atmosphere\n",
    "    There is no sound.\"\"\"\n",
    "print(multiline)"
   ]
  },
  {
   "cell_type": "code",
   "execution_count": null,
   "metadata": {},
   "outputs": [],
   "source": [
    "'temperatures and facts about the moon'.title()"
   ]
  },
  {
   "cell_type": "code",
   "execution_count": null,
   "metadata": {},
   "outputs": [],
   "source": [
    "heading = 'temperatures and facts about the moon'\n",
    "heading.title()"
   ]
  },
  {
   "cell_type": "code",
   "execution_count": null,
   "metadata": {},
   "outputs": [],
   "source": [
    "temperatures = \"Daylight: 260 F Nighttime: -280 F\"\n",
    "temperatures .split()"
   ]
  },
  {
   "cell_type": "code",
   "execution_count": null,
   "metadata": {},
   "outputs": [],
   "source": [
    "temperatures = \"Daylight: 260 F \\n Nighttime: -280 F\"\n",
    "temperatures.split(\"\\n\")"
   ]
  },
  {
   "cell_type": "code",
   "execution_count": null,
   "metadata": {},
   "outputs": [],
   "source": [
    "'Moon' in 'This text will describe facts and challenges with space travel'"
   ]
  },
  {
   "cell_type": "code",
   "execution_count": null,
   "metadata": {},
   "outputs": [],
   "source": [
    "'Moon' in 'This text will describe facts about the Moon'"
   ]
  },
  {
   "cell_type": "code",
   "execution_count": null,
   "metadata": {},
   "outputs": [],
   "source": [
    "temperatures = \"Saturn has a daytime temperature of -170 degrees Celsius, \\nwhile Mars has -28 Celsius.\"\n",
    "\n",
    "temperatures.count(\"Mars\")\n",
    "temperatures.count(\"Moon\")"
   ]
  },
  {
   "cell_type": "code",
   "execution_count": null,
   "metadata": {},
   "outputs": [],
   "source": [
    "\"The Moon And The Earth\".lower()\n",
    "\"The Moon And The Earth\".upper()"
   ]
  },
  {
   "cell_type": "code",
   "execution_count": null,
   "metadata": {},
   "outputs": [],
   "source": [
    "temperatures = \"Mars average temperature: -60C\"\n",
    "parts = temperatures.split(\":\")\n",
    "parts [-1]"
   ]
  },
  {
   "cell_type": "code",
   "execution_count": null,
   "metadata": {},
   "outputs": [],
   "source": [
    "mars_temperature = \"The highest temperature on Mars is about 30 C\"\n",
    "for item in mars_temperature.split():\n",
    "    if item.isnumeric():\n",
    "        print(item)"
   ]
  },
  {
   "cell_type": "code",
   "execution_count": null,
   "metadata": {},
   "outputs": [],
   "source": [
    "cadena = \"-60\"\n",
    "cadena.startswith(\"-\")"
   ]
  },
  {
   "cell_type": "code",
   "execution_count": null,
   "metadata": {},
   "outputs": [],
   "source": [
    "cadena = \"30 S\"\n",
    "if cadena.endswith(\"C\") or cadena.endswith(\"c\"):\n",
    "    print(\"This temperature is in Celsius\")\n",
    "else:\n",
    "    print(\"This temperature is not Celsius\")"
   ]
  },
  {
   "cell_type": "code",
   "execution_count": null,
   "metadata": {},
   "outputs": [],
   "source": [
    "cadena = \"Saturn has a daytime temperature of -170 degrees Celsius, while Mars has -28 Celsius.\"\n",
    "cadena.replace(\"Celsius\", \"C\")\n"
   ]
  },
  {
   "cell_type": "code",
   "execution_count": null,
   "metadata": {},
   "outputs": [],
   "source": [
    "cadena = \"Temperatures on the Moon can vary wildly.\"\n",
    "\"temperatures\" in cadena.lower()"
   ]
  },
  {
   "cell_type": "code",
   "execution_count": null,
   "metadata": {},
   "outputs": [],
   "source": [
    "moon_facts = [\"The moon is drifting away from the Earth.\", \"On average, the Moon is moving about 4cm every year\"]\n",
    "\" \".join(moon_facts)"
   ]
  },
  {
   "cell_type": "code",
   "execution_count": null,
   "metadata": {},
   "outputs": [],
   "source": [
    "arreglo = [\"Uno\", \"Dos\", \"Tres\"]\n",
    "nuevo_arreglo = \" \".join(arreglo)\n",
    "print(nuevo_arreglo)\n",
    "print(type(nuevo_arreglo))"
   ]
  },
  {
   "cell_type": "code",
   "execution_count": null,
   "metadata": {},
   "outputs": [],
   "source": [
    "mass_percentage = \"1/6\"\n",
    "print(\"On the Moon, you would weight about %s of your weight onm Earth\" %mass_percentage)"
   ]
  },
  {
   "cell_type": "code",
   "execution_count": null,
   "metadata": {},
   "outputs": [],
   "source": [
    "print(\"Both sides of the %s get the same amount of sunlight, \\n but only one side is seen from %s because the %s rotates around its own axis when it orbits %s\" %(\"Moon\", \"Earth\", \"Moon\", \"Earth\"))"
   ]
  },
  {
   "cell_type": "code",
   "execution_count": null,
   "metadata": {},
   "outputs": [],
   "source": [
    "mass_percentage = \"1/6\"\n",
    "print(\"On the Moon, you would weight about {} of your weight on Earth\".format(mass_percentage))"
   ]
  },
  {
   "cell_type": "code",
   "execution_count": null,
   "metadata": {},
   "outputs": [],
   "source": [
    "print(\"You are lighter on the {0}, because on the {0} \\n you would weight about {1} of your weight on Earth\".format(\"Moon\", mass_percentage))"
   ]
  },
  {
   "cell_type": "code",
   "execution_count": null,
   "metadata": {},
   "outputs": [],
   "source": [
    "print(f\"on the Moon, you would weight about {mass_percentage} of your weight on Earth\")"
   ]
  },
  {
   "cell_type": "code",
   "execution_count": null,
   "metadata": {},
   "outputs": [],
   "source": [
    "round(100/6,1)"
   ]
  },
  {
   "cell_type": "code",
   "execution_count": null,
   "metadata": {},
   "outputs": [],
   "source": [
    "print(f\"On the Moon, you would weight about {round(100/6,1)}% of your weight on Earth\")"
   ]
  },
  {
   "cell_type": "code",
   "execution_count": null,
   "metadata": {},
   "outputs": [],
   "source": [
    "subject = \"Interesting facts about the moon\"\n",
    "print(f\"{subject.title()}\")"
   ]
  }
 ],
 "metadata": {
  "interpreter": {
   "hash": "e6c7e1412055052c91c270ed5ae4860cf1ada6d4e73087bb303a1d6d3fa4fabb"
  },
  "kernelspec": {
   "display_name": "Python 3.10.2 64-bit (windows store)",
   "language": "python",
   "name": "python3"
  },
  "language_info": {
   "codemirror_mode": {
    "name": "ipython",
    "version": 3
   },
   "file_extension": ".py",
   "mimetype": "text/x-python",
   "name": "python",
   "nbconvert_exporter": "python",
   "pygments_lexer": "ipython3",
   "version": "3.10.2"
  },
  "orig_nbformat": 4
 },
 "nbformat": 4,
 "nbformat_minor": 2
}
